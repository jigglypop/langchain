{
  "nbformat": 4,
  "nbformat_minor": 0,
  "metadata": {
    "colab": {
      "provenance": [],
      "include_colab_link": true
    },
    "kernelspec": {
      "name": "python3",
      "display_name": "Python 3"
    },
    "language_info": {
      "name": "python"
    }
  },
  "cells": [
    {
      "cell_type": "markdown",
      "metadata": {
        "id": "view-in-github",
        "colab_type": "text"
      },
      "source": [
        "<a href=\"https://colab.research.google.com/github/jigglypop/langchain/blob/master/langgraph.ipynb\" target=\"_parent\"><img src=\"https://colab.research.google.com/assets/colab-badge.svg\" alt=\"Open In Colab\"/></a>"
      ]
    },
    {
      "cell_type": "markdown",
      "source": [
        "# LangGraph Qucikstart 기초예제\n",
        "## 작성자 : AISchool ( http://aischool.ai/%ec%98%a8%eb%9d%bc%ec%9d%b8-%ea%b0%95%ec%9d%98-%ec%b9%b4%ed%85%8c%ea%b3%a0%eb%a6%ac/ )\n",
        "## Reference : https://langchain-ai.github.io/langgraph/tutorials/introduction/"
      ],
      "metadata": {
        "id": "pJ6i2qcdZ0Ow"
      }
    },
    {
      "cell_type": "markdown",
      "source": [
        "# Quick Start"
      ],
      "metadata": {
        "id": "zpUVL145LZNd"
      }
    },
    {
      "cell_type": "markdown",
      "source": [
        "이번 예제는 LangGraph에서 지원 챗봇을 구축하는 종합적인 빠른 시작 가이드입니다.\n",
        "이 챗봇은 다음과 같은 기능을 가질 것입니다:\n",
        "\n",
        "*   웹 검색을 통해 일반적인 질문에 답변하기\n",
        "*   호출 간에 대화 상태를 유지하기\n",
        "\n",
        "우리는 기본 챗봇으로 시작하여 점진적으로 더 정교한 기능을 추가하면서 LangGraph의 주요 개념을 소개할 것입니다.\n"
      ],
      "metadata": {
        "id": "Nk99Tm2-LbdJ"
      }
    },
    {
      "cell_type": "markdown",
      "source": [
        "# 라이브러리 설치"
      ],
      "metadata": {
        "id": "JX8QTKZPNdhT"
      }
    },
    {
      "cell_type": "code",
      "source": [
        "!pip install -U langgraph langsmith langchain_openai"
      ],
      "metadata": {
        "colab": {
          "base_uri": "https://localhost:8080/"
        },
        "id": "mmbvCEXkaufw",
        "outputId": "f9d5bf54-1622-46cb-bfbf-fb345904ba22"
      },
      "execution_count": null,
      "outputs": [
        {
          "output_type": "stream",
          "name": "stdout",
          "text": [
            "Collecting langgraph\n",
            "  Downloading langgraph-0.2.12-py3-none-any.whl.metadata (13 kB)\n",
            "Collecting langsmith\n",
            "  Downloading langsmith-0.1.104-py3-none-any.whl.metadata (13 kB)\n",
            "Collecting langchain_openai\n",
            "  Downloading langchain_openai-0.1.22-py3-none-any.whl.metadata (2.6 kB)\n",
            "Collecting langchain-core<0.3,>=0.2.27 (from langgraph)\n",
            "  Downloading langchain_core-0.2.34-py3-none-any.whl.metadata (6.2 kB)\n",
            "Collecting langgraph-checkpoint<2.0.0,>=1.0.2 (from langgraph)\n",
            "  Downloading langgraph_checkpoint-1.0.5-py3-none-any.whl.metadata (4.5 kB)\n",
            "Collecting httpx<1,>=0.23.0 (from langsmith)\n",
            "  Downloading httpx-0.27.0-py3-none-any.whl.metadata (7.2 kB)\n",
            "Collecting orjson<4.0.0,>=3.9.14 (from langsmith)\n",
            "  Downloading orjson-3.10.7-cp310-cp310-manylinux_2_17_x86_64.manylinux2014_x86_64.whl.metadata (50 kB)\n",
            "\u001b[2K     \u001b[90m━━━━━━━━━━━━━━━━━━━━━━━━━━━━━━━━━━━━━━━━\u001b[0m \u001b[32m50.4/50.4 kB\u001b[0m \u001b[31m542.3 kB/s\u001b[0m eta \u001b[36m0:00:00\u001b[0m\n",
            "\u001b[?25hRequirement already satisfied: pydantic<3,>=1 in /usr/local/lib/python3.10/dist-packages (from langsmith) (2.8.2)\n",
            "Requirement already satisfied: requests<3,>=2 in /usr/local/lib/python3.10/dist-packages (from langsmith) (2.32.3)\n",
            "Collecting openai<2.0.0,>=1.40.0 (from langchain_openai)\n",
            "  Downloading openai-1.42.0-py3-none-any.whl.metadata (22 kB)\n",
            "Collecting tiktoken<1,>=0.7 (from langchain_openai)\n",
            "  Downloading tiktoken-0.7.0-cp310-cp310-manylinux_2_17_x86_64.manylinux2014_x86_64.whl.metadata (6.6 kB)\n",
            "Requirement already satisfied: anyio in /usr/local/lib/python3.10/dist-packages (from httpx<1,>=0.23.0->langsmith) (3.7.1)\n",
            "Requirement already satisfied: certifi in /usr/local/lib/python3.10/dist-packages (from httpx<1,>=0.23.0->langsmith) (2024.7.4)\n",
            "Collecting httpcore==1.* (from httpx<1,>=0.23.0->langsmith)\n",
            "  Downloading httpcore-1.0.5-py3-none-any.whl.metadata (20 kB)\n",
            "Requirement already satisfied: idna in /usr/local/lib/python3.10/dist-packages (from httpx<1,>=0.23.0->langsmith) (3.7)\n",
            "Requirement already satisfied: sniffio in /usr/local/lib/python3.10/dist-packages (from httpx<1,>=0.23.0->langsmith) (1.3.1)\n",
            "Collecting h11<0.15,>=0.13 (from httpcore==1.*->httpx<1,>=0.23.0->langsmith)\n",
            "  Downloading h11-0.14.0-py3-none-any.whl.metadata (8.2 kB)\n",
            "Requirement already satisfied: PyYAML>=5.3 in /usr/local/lib/python3.10/dist-packages (from langchain-core<0.3,>=0.2.27->langgraph) (6.0.2)\n",
            "Collecting jsonpatch<2.0,>=1.33 (from langchain-core<0.3,>=0.2.27->langgraph)\n",
            "  Downloading jsonpatch-1.33-py2.py3-none-any.whl.metadata (3.0 kB)\n",
            "Requirement already satisfied: packaging<25,>=23.2 in /usr/local/lib/python3.10/dist-packages (from langchain-core<0.3,>=0.2.27->langgraph) (24.1)\n",
            "Collecting tenacity!=8.4.0,<9.0.0,>=8.1.0 (from langchain-core<0.3,>=0.2.27->langgraph)\n",
            "  Downloading tenacity-8.5.0-py3-none-any.whl.metadata (1.2 kB)\n",
            "Requirement already satisfied: typing-extensions>=4.7 in /usr/local/lib/python3.10/dist-packages (from langchain-core<0.3,>=0.2.27->langgraph) (4.12.2)\n",
            "Requirement already satisfied: distro<2,>=1.7.0 in /usr/lib/python3/dist-packages (from openai<2.0.0,>=1.40.0->langchain_openai) (1.7.0)\n",
            "Collecting jiter<1,>=0.4.0 (from openai<2.0.0,>=1.40.0->langchain_openai)\n",
            "  Downloading jiter-0.5.0-cp310-cp310-manylinux_2_17_x86_64.manylinux2014_x86_64.whl.metadata (3.6 kB)\n",
            "Requirement already satisfied: tqdm>4 in /usr/local/lib/python3.10/dist-packages (from openai<2.0.0,>=1.40.0->langchain_openai) (4.66.5)\n",
            "Requirement already satisfied: annotated-types>=0.4.0 in /usr/local/lib/python3.10/dist-packages (from pydantic<3,>=1->langsmith) (0.7.0)\n",
            "Requirement already satisfied: pydantic-core==2.20.1 in /usr/local/lib/python3.10/dist-packages (from pydantic<3,>=1->langsmith) (2.20.1)\n",
            "Requirement already satisfied: charset-normalizer<4,>=2 in /usr/local/lib/python3.10/dist-packages (from requests<3,>=2->langsmith) (3.3.2)\n",
            "Requirement already satisfied: urllib3<3,>=1.21.1 in /usr/local/lib/python3.10/dist-packages (from requests<3,>=2->langsmith) (2.0.7)\n",
            "Requirement already satisfied: regex>=2022.1.18 in /usr/local/lib/python3.10/dist-packages (from tiktoken<1,>=0.7->langchain_openai) (2024.5.15)\n",
            "Requirement already satisfied: exceptiongroup in /usr/local/lib/python3.10/dist-packages (from anyio->httpx<1,>=0.23.0->langsmith) (1.2.2)\n",
            "Collecting jsonpointer>=1.9 (from jsonpatch<2.0,>=1.33->langchain-core<0.3,>=0.2.27->langgraph)\n",
            "  Downloading jsonpointer-3.0.0-py2.py3-none-any.whl.metadata (2.3 kB)\n",
            "Downloading langgraph-0.2.12-py3-none-any.whl (87 kB)\n",
            "\u001b[2K   \u001b[90m━━━━━━━━━━━━━━━━━━━━━━━━━━━━━━━━━━━━━━━━\u001b[0m \u001b[32m87.1/87.1 kB\u001b[0m \u001b[31m3.0 MB/s\u001b[0m eta \u001b[36m0:00:00\u001b[0m\n",
            "\u001b[?25hDownloading langsmith-0.1.104-py3-none-any.whl (149 kB)\n",
            "\u001b[2K   \u001b[90m━━━━━━━━━━━━━━━━━━━━━━━━━━━━━━━━━━━━━━━━\u001b[0m \u001b[32m149.1/149.1 kB\u001b[0m \u001b[31m7.2 MB/s\u001b[0m eta \u001b[36m0:00:00\u001b[0m\n",
            "\u001b[?25hDownloading langchain_openai-0.1.22-py3-none-any.whl (51 kB)\n",
            "\u001b[2K   \u001b[90m━━━━━━━━━━━━━━━━━━━━━━━━━━━━━━━━━━━━━━━━\u001b[0m \u001b[32m52.0/52.0 kB\u001b[0m \u001b[31m2.8 MB/s\u001b[0m eta \u001b[36m0:00:00\u001b[0m\n",
            "\u001b[?25hDownloading httpx-0.27.0-py3-none-any.whl (75 kB)\n",
            "\u001b[2K   \u001b[90m━━━━━━━━━━━━━━━━━━━━━━━━━━━━━━━━━━━━━━━━\u001b[0m \u001b[32m75.6/75.6 kB\u001b[0m \u001b[31m3.9 MB/s\u001b[0m eta \u001b[36m0:00:00\u001b[0m\n",
            "\u001b[?25hDownloading httpcore-1.0.5-py3-none-any.whl (77 kB)\n",
            "\u001b[2K   \u001b[90m━━━━━━━━━━━━━━━━━━━━━━━━━━━━━━━━━━━━━━━━\u001b[0m \u001b[32m77.9/77.9 kB\u001b[0m \u001b[31m4.1 MB/s\u001b[0m eta \u001b[36m0:00:00\u001b[0m\n",
            "\u001b[?25hDownloading langchain_core-0.2.34-py3-none-any.whl (393 kB)\n",
            "\u001b[2K   \u001b[90m━━━━━━━━━━━━━━━━━━━━━━━━━━━━━━━━━━━━━━━━\u001b[0m \u001b[32m393.9/393.9 kB\u001b[0m \u001b[31m6.7 MB/s\u001b[0m eta \u001b[36m0:00:00\u001b[0m\n",
            "\u001b[?25hDownloading langgraph_checkpoint-1.0.5-py3-none-any.whl (15 kB)\n",
            "Downloading openai-1.42.0-py3-none-any.whl (362 kB)\n",
            "\u001b[2K   \u001b[90m━━━━━━━━━━━━━━━━━━━━━━━━━━━━━━━━━━━━━━━━\u001b[0m \u001b[32m362.9/362.9 kB\u001b[0m \u001b[31m19.9 MB/s\u001b[0m eta \u001b[36m0:00:00\u001b[0m\n",
            "\u001b[?25hDownloading orjson-3.10.7-cp310-cp310-manylinux_2_17_x86_64.manylinux2014_x86_64.whl (141 kB)\n",
            "\u001b[2K   \u001b[90m━━━━━━━━━━━━━━━━━━━━━━━━━━━━━━━━━━━━━━━━\u001b[0m \u001b[32m141.9/141.9 kB\u001b[0m \u001b[31m9.1 MB/s\u001b[0m eta \u001b[36m0:00:00\u001b[0m\n",
            "\u001b[?25hDownloading tiktoken-0.7.0-cp310-cp310-manylinux_2_17_x86_64.manylinux2014_x86_64.whl (1.1 MB)\n",
            "\u001b[2K   \u001b[90m━━━━━━━━━━━━━━━━━━━━━━━━━━━━━━━━━━━━━━━━\u001b[0m \u001b[32m1.1/1.1 MB\u001b[0m \u001b[31m19.4 MB/s\u001b[0m eta \u001b[36m0:00:00\u001b[0m\n",
            "\u001b[?25hDownloading jiter-0.5.0-cp310-cp310-manylinux_2_17_x86_64.manylinux2014_x86_64.whl (318 kB)\n",
            "\u001b[2K   \u001b[90m━━━━━━━━━━━━━━━━━━━━━━━━━━━━━━━━━━━━━━━━\u001b[0m \u001b[32m318.9/318.9 kB\u001b[0m \u001b[31m17.1 MB/s\u001b[0m eta \u001b[36m0:00:00\u001b[0m\n",
            "\u001b[?25hDownloading jsonpatch-1.33-py2.py3-none-any.whl (12 kB)\n",
            "Downloading tenacity-8.5.0-py3-none-any.whl (28 kB)\n",
            "Downloading h11-0.14.0-py3-none-any.whl (58 kB)\n",
            "\u001b[2K   \u001b[90m━━━━━━━━━━━━━━━━━━━━━━━━━━━━━━━━━━━━━━━━\u001b[0m \u001b[32m58.3/58.3 kB\u001b[0m \u001b[31m3.3 MB/s\u001b[0m eta \u001b[36m0:00:00\u001b[0m\n",
            "\u001b[?25hDownloading jsonpointer-3.0.0-py2.py3-none-any.whl (7.6 kB)\n",
            "Installing collected packages: tenacity, orjson, jsonpointer, jiter, h11, tiktoken, jsonpatch, httpcore, httpx, openai, langsmith, langchain-core, langgraph-checkpoint, langchain_openai, langgraph\n",
            "  Attempting uninstall: tenacity\n",
            "    Found existing installation: tenacity 9.0.0\n",
            "    Uninstalling tenacity-9.0.0:\n",
            "      Successfully uninstalled tenacity-9.0.0\n",
            "Successfully installed h11-0.14.0 httpcore-1.0.5 httpx-0.27.0 jiter-0.5.0 jsonpatch-1.33 jsonpointer-3.0.0 langchain-core-0.2.34 langchain_openai-0.1.22 langgraph-0.2.12 langgraph-checkpoint-1.0.5 langsmith-0.1.104 openai-1.42.0 orjson-3.10.7 tenacity-8.5.0 tiktoken-0.7.0\n"
          ]
        }
      ]
    },
    {
      "cell_type": "markdown",
      "source": [
        "# API Key 설정"
      ],
      "metadata": {
        "id": "iXOI-QZkDkv8"
      }
    },
    {
      "cell_type": "code",
      "source": [
        "import os\n",
        "from uuid import uuid4\n",
        "\n",
        "unique_id = uuid4().hex[0:8]\n",
        "os.environ[\"LANGCHAIN_TRACING_V2\"] = \"true\"\n",
        "os.environ[\"LANGCHAIN_PROJECT\"] = f\"LangGraph Tutorial - {unique_id}\"\n",
        "os.environ[\"LANGCHAIN_ENDPOINT\"] = \"https://api.smith.langchain.com\"\n",
        "os.environ[\"LANGCHAIN_API_KEY\"] = \"여러분의_LANGCHAIN_API_KEY\""
      ],
      "metadata": {
        "id": "IFNrLCBFaw3x"
      },
      "execution_count": null,
      "outputs": []
    },
    {
      "cell_type": "code",
      "source": [
        "unique_id"
      ],
      "metadata": {
        "colab": {
          "base_uri": "https://localhost:8080/",
          "height": 35
        },
        "id": "a0aHi-J6O4h9",
        "outputId": "8a47c089-5392-43b9-da33-ea30683b61b1"
      },
      "execution_count": null,
      "outputs": [
        {
          "output_type": "execute_result",
          "data": {
            "text/plain": [
              "'be5d09a9'"
            ],
            "application/vnd.google.colaboratory.intrinsic+json": {
              "type": "string"
            }
          },
          "metadata": {},
          "execution_count": 3
        }
      ]
    },
    {
      "cell_type": "code",
      "source": [
        "os.environ[\"OPENAI_API_KEY\"] = \"여러분의_OPENAI_API_KEY\""
      ],
      "metadata": {
        "id": "3m8BUwznvDq3"
      },
      "execution_count": null,
      "outputs": []
    },
    {
      "cell_type": "markdown",
      "source": [
        "# Part 1: Build a Basic Chatbot"
      ],
      "metadata": {
        "id": "wf_ND4jxse-J"
      }
    },
    {
      "cell_type": "markdown",
      "source": [
        "우리는 먼저 LangGraph를 사용하여 간단한 챗봇을 만들 것입니다. 이 챗봇은 사용자 메시지에 직접 응답합니다. 비록 간단하지만, 이는 **LangGraph를 사용하여 구축하는 핵심 개념을 설명할 것**입니다. 이 섹션이 끝나면 기본적인 챗봇을 구축하게 될 것입니다.\n",
        "\n",
        "먼저 **StateGraph**를 생성하세요. StateGraph 객체는 \"상태 기계\"로서 챗봇의 구조를 정의합니다. 우리는 **노드(nodes)**를 추가하여 llm과 챗봇이 호출할 수 있는 기능들을 나타내고, **엣지(edges)**를 추가하여 챗봇이 이러한 기능들 간에 어떻게 전환해야 하는지 지정할 것입니다."
      ],
      "metadata": {
        "id": "6j6diScdtrRC"
      }
    },
    {
      "cell_type": "code",
      "source": [
        "from typing import Annotated\n",
        "\n",
        "from typing_extensions import TypedDict\n",
        "\n",
        "from langgraph.graph import StateGraph, START, END\n",
        "from langgraph.graph.message import add_messages\n",
        "\n",
        "\n",
        "class State(TypedDict):\n",
        "    # Messages have the type \"list\". The `add_messages` function\n",
        "    # in the annotation defines how this state key should be updated\n",
        "    # (in this case, it appends messages to the list, rather than overwriting them)\n",
        "    messages: Annotated[list, add_messages]\n",
        "\n",
        "\n",
        "graph_builder = StateGraph(State)"
      ],
      "metadata": {
        "id": "-ZKG0Q99se2u"
      },
      "execution_count": null,
      "outputs": []
    },
    {
      "cell_type": "markdown",
      "source": [
        "**Note** 그래프를 정의할 때 가장 먼저 해야 할 일은 그래프의 상태(State)를 정의하는 것입니다. 상태는 그래프의 스키마와 상태에 대한 업데이트를 적용하는 방법을 지정하는 리듀서(reducer) 함수로 구성됩니다. **우리의 예시에서 상태(State)는 하나의 키를 가진 TypedDict로 정의되며, 이 키는 messages입니다.** messages 키는 **add_messages 리듀서 함수로 주석이 달려 있으며, 이는 LangGraph에게 새로운 메시지를 기존 목록에 추가하도록 지시**하고, 덮어쓰지 않도록 합니다. 주석이 없는 상태 키는 각 업데이트 시 덮어써지며 가장 최근의 값이 저장됩니다. 상태, 리듀서 및 기타 저수준 개념에 대해 더 자세히 알아보려면 이 개념 가이드 ( https://langchain-ai.github.io/langgraph/reference/graphs/?h=add+messages#add_messages )를 확인하세요.\n",
        "\n",
        "\n",
        "\n",
        "\n",
        "\n",
        "\n"
      ],
      "metadata": {
        "id": "2TrauEtQSkQO"
      }
    },
    {
      "cell_type": "markdown",
      "source": [
        "이제 우리의 그래프는 두 가지를 알게 되었습니다:\n",
        "\n",
        "\n",
        "1.   우리가 정의하는 모든 노드는 현재 상태(State)를 입력으로 받아들이고, 그 상태를 업데이트하는 값을 반환합니다.\n",
        "\n",
        "2.   messages는 직접 덮어써지지 않고 현재 목록에 추가됩니다. 이는 Annotated 구문에서 미리 빌드된 add_messages 함수를 통해 전달됩니다.\n",
        "\n",
        "다음으로 \"chatbot\" 노드를 추가합니다. **노드는 작업의 단위를 나타내며, 일반적으로 파이썬 함수로 구현**됩니다.\n"
      ],
      "metadata": {
        "id": "292VUvCsZLef"
      }
    },
    {
      "cell_type": "code",
      "source": [
        "from langchain_openai import ChatOpenAI\n",
        "\n",
        "llm = ChatOpenAI(\n",
        "    model=\"gpt-3.5-turbo\",\n",
        "    temperature=0,\n",
        ")"
      ],
      "metadata": {
        "id": "8eo7B5ol445e"
      },
      "execution_count": null,
      "outputs": []
    },
    {
      "cell_type": "code",
      "source": [
        "def chatbot(state: State):\n",
        "    return {\"messages\": [llm.invoke(state[\"messages\"])]}\n",
        "\n",
        "# The first argument is the unique node name\n",
        "# The second argument is the function or object that will be called whenever\n",
        "# the node is used.\n",
        "graph_builder.add_node(\"chatbot\", chatbot)"
      ],
      "metadata": {
        "id": "DvHAts3LTnA7"
      },
      "execution_count": null,
      "outputs": []
    },
    {
      "cell_type": "markdown",
      "source": [
        "**챗봇 노드 함수가 현재 상태(State)를 입력으로 받아들이고, \"messages\"라는 키 아래에 업데이트된 메시지 목록을 포함하는 딕셔너리를 반환하는 방식을 주목**하세요. **이것이 모든 LangGraph 노드 함수의 기본 패턴**입니다."
      ],
      "metadata": {
        "id": "JeWlYi96eyus"
      }
    },
    {
      "cell_type": "markdown",
      "source": [
        "**상태(State)의 add_messages 함수는 LLM의 응답 메시지를 상태에 이미 존재하는 메시지에 추가**합니다.\n",
        "\n",
        "다음으로, **진입점(entry point)**을 추가하세요. 이는 **그래프가 매번 실행될 때 어디서 작업을 시작할지 지정**해줍니다.\n",
        "\n",
        "\n"
      ],
      "metadata": {
        "id": "xr18QSiMjhwk"
      }
    },
    {
      "cell_type": "code",
      "source": [
        "graph_builder.add_edge(START, \"chatbot\")"
      ],
      "metadata": {
        "id": "-f2iERFpjYEo"
      },
      "execution_count": null,
      "outputs": []
    },
    {
      "cell_type": "markdown",
      "source": [
        "마찬가지로, **종료 지점(finish point)**을 설정하세요. 이는 그래프에게 **\"이 노드가 실행될 때마다, 여기서 종료할 수 있다\"**는 지시를 내립니다."
      ],
      "metadata": {
        "id": "ykyLdZo6jxcg"
      }
    },
    {
      "cell_type": "code",
      "source": [
        "graph_builder.add_edge(\"chatbot\", END)"
      ],
      "metadata": {
        "id": "q8uUxlQKTm_R"
      },
      "execution_count": null,
      "outputs": []
    },
    {
      "cell_type": "markdown",
      "source": [
        "마지막으로, 그래프를 실행할 수 있어야 합니다. 이를 위해 **그래프 빌더에서 compile()을 호출**합니다. 이렇게 하면 상태에서 사용할 수 있는 CompiledGraph가 생성됩니다.\n",
        "\n",
        "\n",
        "\n",
        "\n",
        "\n",
        "\n"
      ],
      "metadata": {
        "id": "xv_m2Jedmdm5"
      }
    },
    {
      "cell_type": "code",
      "source": [
        "graph = graph_builder.compile()"
      ],
      "metadata": {
        "id": "RFCO17ilTm8i"
      },
      "execution_count": null,
      "outputs": []
    },
    {
      "cell_type": "markdown",
      "source": [
        "그래프는 get_graph 메서드와 draw_ascii 또는 draw_png 같은 \"draw\" 메서드를 사용하여 시각화할 수 있습니다. 각 draw 메서드는 추가적인 종속성을 요구합니다."
      ],
      "metadata": {
        "id": "2VSg50Gbthg2"
      }
    },
    {
      "cell_type": "code",
      "source": [
        "from IPython.display import Image, display\n",
        "\n",
        "try:\n",
        "    display(Image(graph.get_graph().draw_mermaid_png()))\n",
        "except Exception:\n",
        "    # This requires some extra dependencies and is optional\n",
        "    pass"
      ],
      "metadata": {
        "colab": {
          "base_uri": "https://localhost:8080/",
          "height": 236
        },
        "id": "G9yAM_kxtjIj",
        "outputId": "98b27954-8746-414c-c4a2-4ab651ee2d80"
      },
      "execution_count": null,
      "outputs": [
        {
          "output_type": "display_data",
          "data": {
            "image/jpeg": "[encoded data removed]",
            "text/plain": [
              "<IPython.core.display.Image object>"
            ]
          },
          "metadata": {}
        }
      ]
    },
    {
      "cell_type": "markdown",
      "source": [
        "이제 챗봇을 실행해 봅시다!\n",
        "\n",
        "**Tip**: \"quit\", \"exit\", 또는 \"q\"를 입력하면 언제든지 채팅 루프를 종료할 수 있습니다.\n",
        "\n",
        "\n",
        "\n",
        "\n",
        "\n",
        "\n"
      ],
      "metadata": {
        "id": "ZrCON501xThY"
      }
    },
    {
      "cell_type": "code",
      "source": [
        "# 테스트 프롬프트 : what's langgraph all about?\n",
        "\n",
        "while True:\n",
        "    user_input = input(\"User: \")\n",
        "    if user_input.lower() in [\"quit\", \"exit\", \"q\"]:\n",
        "        print(\"Goodbye!\")\n",
        "        break\n",
        "    for event in graph.stream({\"messages\": (\"user\", user_input)}):\n",
        "        for value in event.values():\n",
        "            print(\"Assistant:\", value[\"messages\"][-1].content)"
      ],
      "metadata": {
        "id": "EkbCVhnwv7fG",
        "colab": {
          "base_uri": "https://localhost:8080/"
        },
        "outputId": "acc347ac-6070-4842-e6e8-f0e04b7bf44a"
      },
      "execution_count": null,
      "outputs": [
        {
          "output_type": "stream",
          "name": "stdout",
          "text": [
            "User: what's langgraph all about?\n",
            "Assistant: Langgraph is a language learning platform that uses artificial intelligence and machine learning to help users improve their language skills. It offers personalized lessons, interactive exercises, and real-time feedback to help users practice and improve their speaking, listening, reading, and writing skills in various languages. Langgraph also provides users with language proficiency assessments and progress tracking tools to help them monitor their learning journey.\n",
            "User: q\n",
            "Goodbye!\n"
          ]
        }
      ]
    },
    {
      "cell_type": "markdown",
      "source": [
        "**축하합니다!** LangGraph를 사용하여 첫 번째 챗봇을 성공적으로 구축하셨습니다. 이 봇은 사용자의 입력을 받아 LLM을 사용해 응답을 생성함으로써 기본적인 대화를 할 수 있습니다. 위 호출에 대한 LangSmith 추적을 확인할 수 있습니다.\n",
        "\n",
        "하지만, **봇의 지식이 그 훈련 데이터에 한정되어 있다는 점**을 눈치채셨을 것입니다. 다음 부분에서는 **웹 검색 도구를 추가하여 봇의 지식을 확장하고, 더 많은 능력을 갖추도록** 만들어 보겠습니다.\n",
        "\n",
        "아래는 이 섹션의 전체 코드입니다. 참고하시기 바랍니다:\n",
        "\n",
        "\n",
        "\n",
        "\n",
        "\n",
        "\n"
      ],
      "metadata": {
        "id": "B5-wC6aJ1oC3"
      }
    },
    {
      "cell_type": "code",
      "source": [
        "# from typing import Annotated\n",
        "\n",
        "# from langchain_anthropic import ChatAnthropic\n",
        "# from typing_extensions import TypedDict\n",
        "\n",
        "# from langgraph.graph import StateGraph\n",
        "# from langgraph.graph.message import add_messages\n",
        "\n",
        "\n",
        "# class State(TypedDict):\n",
        "#     messages: Annotated[list, add_messages]\n",
        "\n",
        "\n",
        "# graph_builder = StateGraph(State)\n",
        "\n",
        "\n",
        "# llm = ChatAnthropic(model=\"claude-3-haiku-20240307\")\n",
        "\n",
        "\n",
        "# def chatbot(state: State):\n",
        "#     return {\"messages\": [llm.invoke(state[\"messages\"])]}\n",
        "\n",
        "\n",
        "# # The first argument is the unique node name\n",
        "# # The second argument is the function or object that will be called whenever\n",
        "# # the node is used.\n",
        "# graph_builder.add_node(\"chatbot\", chatbot)\n",
        "# graph_builder.set_entry_point(\"chatbot\")\n",
        "# graph_builder.set_finish_point(\"chatbot\")\n",
        "# graph = graph_builder.compile()"
      ],
      "metadata": {
        "id": "noAYswpcsezb"
      },
      "execution_count": null,
      "outputs": []
    },
    {
      "cell_type": "markdown",
      "source": [
        "# Part 2: Enhancing the Chatbot with Tools"
      ],
      "metadata": {
        "id": "u6_m2IUH64DZ"
      }
    },
    {
      "cell_type": "markdown",
      "source": [
        "우리의 챗봇이 **\"기억에서\" 대답할 수 없는 질문을 처리하기 위해, 웹 검색 도구를 통합할 것**입니다. 이 도구를 사용하면 봇이 관련 정보를 찾아 더 나은 응답을 제공할 수 있습니다."
      ],
      "metadata": {
        "id": "KgSlL4Ma9aSh"
      }
    },
    {
      "cell_type": "markdown",
      "source": [
        "도구를 정의하세요:"
      ],
      "metadata": {
        "id": "8Vl7YPoG_OUm"
      }
    },
    {
      "cell_type": "code",
      "source": [
        "!pip install -qU duckduckgo-search langchain-community"
      ],
      "metadata": {
        "id": "O7LN6m8xgMrw",
        "colab": {
          "base_uri": "https://localhost:8080/"
        },
        "outputId": "41465615-ef31-4cb1-dc24-3ef17c1ef65a"
      },
      "execution_count": null,
      "outputs": [
        {
          "output_type": "stream",
          "name": "stdout",
          "text": [
            "\u001b[2K   \u001b[90m━━━━━━━━━━━━━━━━━━━━━━━━━━━━━━━━━━━━━━━━\u001b[0m \u001b[32m2.3/2.3 MB\u001b[0m \u001b[31m10.2 MB/s\u001b[0m eta \u001b[36m0:00:00\u001b[0m\n",
            "\u001b[2K   \u001b[90m━━━━━━━━━━━━━━━━━━━━━━━━━━━━━━━━━━━━━━━━\u001b[0m \u001b[32m997.8/997.8 kB\u001b[0m \u001b[31m33.7 MB/s\u001b[0m eta \u001b[36m0:00:00\u001b[0m\n",
            "\u001b[2K   \u001b[90m━━━━━━━━━━━━━━━━━━━━━━━━━━━━━━━━━━━━━━━━\u001b[0m \u001b[32m2.8/2.8 MB\u001b[0m \u001b[31m38.7 MB/s\u001b[0m eta \u001b[36m0:00:00\u001b[0m\n",
            "\u001b[2K   \u001b[90m━━━━━━━━━━━━━━━━━━━━━━━━━━━━━━━━━━━━━━━━\u001b[0m \u001b[32m49.3/49.3 kB\u001b[0m \u001b[31m3.0 MB/s\u001b[0m eta \u001b[36m0:00:00\u001b[0m\n",
            "\u001b[?25h"
          ]
        }
      ]
    },
    {
      "cell_type": "code",
      "source": [
        "from langchain_community.tools import DuckDuckGoSearchRun\n",
        "\n",
        "tool = DuckDuckGoSearchRun()\n",
        "tools = [tool]\n",
        "tool.invoke(\"What's a 'node' in LangGraph?\")"
      ],
      "metadata": {
        "colab": {
          "base_uri": "https://localhost:8080/",
          "height": 105
        },
        "id": "xNAH1YKmgKqE",
        "outputId": "3aebc465-0088-460b-dfed-8c2c322b8e4a"
      },
      "execution_count": null,
      "outputs": [
        {
          "output_type": "execute_result",
          "data": {
            "text/plain": [
              "\"Step 1: Define the Graph State. First, we define the state structure for our graph. In this example, our state includes the user's question, the classification of the question, and a response ... Each node in a LangGraph graph has the ability to access, read, and write to the state. When a node modifies the state, it effectively broadcasts this information to all other nodes within the ... Then, it executes those tools using LangGraph nodes. After execution, a conditional node decides if more planning is required based on the outcome. If so, the loop restarts. If not, the agent ... Combining LangGraph with LangChain agents, agents can be both directed and cyclic. A Directed Acyclic Graph (DAG) is a type of graph used in computer science and mathematics. Here's a simple explanation: Directed: Each connection (or edge) between nodes (or vertices) has a direction, like a one-way street. Nodes (Tasks): Nodes are like the workstations on the assembly line. Each node performs a specific task on the product. In LangGraph, nodes are Python functions that take the current state, do some work, and return an updated state. Next, we define the nodes, each representing a task in our sandwich-making process.\""
            ],
            "application/vnd.google.colaboratory.intrinsic+json": {
              "type": "string"
            }
          },
          "metadata": {},
          "execution_count": 14
        }
      ]
    },
    {
      "cell_type": "markdown",
      "source": [
        "결과는 우리 챗봇이 질문에 답하기 위해 사용할 수 있는 페이지 요약입니다.\n",
        "\n",
        "다음으로, 그래프를 정의하기 시작하겠습니다. 다음 내용은 **Part 1과 동일하지만, bind_tools를 LLM에 추가**했습니다. 이를 통해 **LLM이 검색 엔진을 사용하려고 할 때 올바른 JSON 형식**을 알 수 있습니다."
      ],
      "metadata": {
        "id": "3PnXC-TR_jvq"
      }
    },
    {
      "cell_type": "code",
      "source": [
        "from typing import Annotated\n",
        "\n",
        "from langchain_openai import ChatOpenAI\n",
        "from typing_extensions import TypedDict\n",
        "\n",
        "from langgraph.graph import StateGraph, START\n",
        "from langgraph.graph.message import add_messages\n",
        "\n",
        "\n",
        "class State(TypedDict):\n",
        "    messages: Annotated[list, add_messages]\n",
        "\n",
        "\n",
        "graph_builder = StateGraph(State)\n",
        "\n",
        "\n",
        "llm = ChatOpenAI(\n",
        "    model=\"gpt-3.5-turbo\",\n",
        "    temperature=0,\n",
        ")\n",
        "# Modification: tell the LLM which tools it can call\n",
        "llm_with_tools = llm.bind_tools(tools)\n",
        "\n",
        "\n",
        "def chatbot(state: State):\n",
        "    return {\"messages\": [llm_with_tools.invoke(state[\"messages\"])]}\n",
        "\n",
        "\n",
        "graph_builder.add_node(\"chatbot\", chatbot)"
      ],
      "metadata": {
        "id": "aLmA-kDFsoNu"
      },
      "execution_count": null,
      "outputs": []
    },
    {
      "cell_type": "markdown",
      "source": [
        "다음으로, 도구가 호출될 경우 실제로 실행하는 함수를 만들어야 합니다. 이를 위해 도구들을 새로운 노드에 추가할 것입니다.\n",
        "\n",
        "아래에서는 **상태에서 가장 최근의 메시지를 확인하고, 메시지에 tool_calls가 포함되어 있으면 도구를 호출하는 BasicToolNode**를 구현합니다. 이 노드는 Anthropic, OpenAI, Google Gemini 등 여러 LLM 제공업체에서 제공하는 LLM의 도구 호출 기능을 사용합니다.\n",
        "\n",
        "나중에 속도를 높이기 위해 **LangGraph의 미리 빌드된 ToolNode**( https://langchain-ai.github.io/langgraph/reference/prebuilt/#toolnode )로 이를 대체할 것이지만, 처음에는 직접 구현해 보는 것이 유익합니다."
      ],
      "metadata": {
        "id": "CDThP7HLEFmJ"
      }
    },
    {
      "cell_type": "code",
      "source": [
        "import json\n",
        "\n",
        "from langchain_core.messages import ToolMessage\n",
        "\n",
        "\n",
        "class BasicToolNode:\n",
        "    \"\"\"A node that runs the tools requested in the last AIMessage.\"\"\"\n",
        "\n",
        "    def __init__(self, tools: list) -> None:\n",
        "        self.tools_by_name = {tool.name: tool for tool in tools}\n",
        "\n",
        "    def __call__(self, inputs: dict):\n",
        "        if messages := inputs.get(\"messages\", []):\n",
        "            message = messages[-1]\n",
        "        else:\n",
        "            raise ValueError(\"No message found in input\")\n",
        "        outputs = []\n",
        "        for tool_call in message.tool_calls:\n",
        "            tool_result = self.tools_by_name[tool_call[\"name\"]].invoke(\n",
        "                tool_call[\"args\"]\n",
        "            )\n",
        "            outputs.append(\n",
        "                ToolMessage(\n",
        "                    content=json.dumps(tool_result),\n",
        "                    name=tool_call[\"name\"],\n",
        "                    tool_call_id=tool_call[\"id\"],\n",
        "                )\n",
        "            )\n",
        "        return {\"messages\": outputs}\n",
        "\n",
        "\n",
        "tool_node = BasicToolNode(tools=[tool])\n",
        "graph_builder.add_node(\"tools\", tool_node)"
      ],
      "metadata": {
        "id": "RY0iuSN3EFcL"
      },
      "execution_count": null,
      "outputs": []
    },
    {
      "cell_type": "markdown",
      "source": [
        "도구 노드를 추가한 후, **조건부 엣지(conditional_edges)**를 정의할 수 있습니다.\n",
        "\n",
        "**엣지(edges)**는 한 노드에서 다음 노드로 제어 흐름을 전달합니다. **조건부 엣지(Conditional edges)**는 일반적으로 **\"if\" 문을 포함하여 현재 그래프 상태에 따라 다른 노드로 경로를 설정**합니다. 이러한 함수는 현재 그래프 상태를 받아 다음에 호출할 노드의 이름을 나타내는 문자열 또는 문자열 목록을 반환합니다.\n",
        "\n",
        "아래에서는 **route_tools라는 라우터 함수를 정의**합니다. 이 함수는 **챗봇의 출력에서 tool_calls을 확인**합니다. 이 함수를 그래프에 제공하려면 **add_conditional_edges**를 호출하여, 챗봇 노드가 완료될 때마다 이 함수를 확인해 다음으로 어디로 갈지 결정하도록 그래프에 지시합니다.\n",
        "\n",
        "조건문은 **tool_calls이 있으면 도구로 라우팅하고, 없으면 \"end\"로 라우팅**됩니다.\n",
        "\n",
        "나중에 이를 더 간결하게 하기 위해 미리 빌드된 **tools_condition**( https://langchain-ai.github.io/langgraph/reference/prebuilt/#tools_condition )으로 대체할 것이지만, 처음에 직접 구현해 보면 더 명확해집니다."
      ],
      "metadata": {
        "id": "m1EmCZ0oFDsW"
      }
    },
    {
      "cell_type": "code",
      "source": [
        "from typing import Literal\n",
        "\n",
        "\n",
        "def route_tools(\n",
        "    state: State,\n",
        ") -> Literal[\"tools\", \"__end__\"]:\n",
        "    \"\"\"\n",
        "    Use in the conditional_edge to route to the ToolNode if the last message\n",
        "    has tool calls. Otherwise, route to the end.\n",
        "    \"\"\"\n",
        "    if isinstance(state, list):\n",
        "        ai_message = state[-1]\n",
        "    elif messages := state.get(\"messages\", []):\n",
        "        ai_message = messages[-1]\n",
        "    else:\n",
        "        raise ValueError(f\"No messages found in input state to tool_edge: {state}\")\n",
        "    if hasattr(ai_message, \"tool_calls\") and len(ai_message.tool_calls) > 0:\n",
        "        return \"tools\"\n",
        "    return \"__end__\"\n",
        "\n",
        "\n",
        "# The `tools_condition` function returns \"tools\" if the chatbot asks to use a tool, and \"__end__\" if\n",
        "# it is fine directly responding. This conditional routing defines the main agent loop.\n",
        "graph_builder.add_conditional_edges(\n",
        "    \"chatbot\",\n",
        "    route_tools,\n",
        "    # The following dictionary lets you tell the graph to interpret the condition's outputs as a specific node\n",
        "    # It defaults to the identity function, but if you\n",
        "    # want to use a node named something else apart from \"tools\",\n",
        "    # You can update the value of the dictionary to something else\n",
        "    # e.g., \"tools\": \"my_tools\"\n",
        "    {\"tools\": \"tools\", \"__end__\": \"__end__\"},\n",
        ")\n",
        "# Any time a tool is called, we return to the chatbot to decide the next step\n",
        "graph_builder.add_edge(\"tools\", \"chatbot\")\n",
        "graph_builder.add_edge(START, \"chatbot\")\n",
        "graph = graph_builder.compile()"
      ],
      "metadata": {
        "id": "wSR8qwRlEFZv"
      },
      "execution_count": null,
      "outputs": []
    },
    {
      "cell_type": "markdown",
      "source": [
        "**Notice** 조건부 엣지가 단일 노드에서 시작되는 것을 확인하세요. 이는 **그래프에게 \"chatbot 노드가 실행될 때마다, 도구를 호출하면 'tools'로 이동하고, 그렇지 않으면 루프를 종료하라\"**는 의미를 전달합니다.\n",
        "\n",
        "미리 빌드된 tools_condition과 마찬가지로, 우리 함수도 도구 호출이 없을 경우 \"\\_\\_end\\_\\_\" 문자열을 반환합니다. 그래프가 \"\\_\\_end\\_\\_\"로 전환되면 더 이상 수행할 작업이 없으므로 실행이 종료됩니다. **조건문이 \"\\_\\_end\\_\\_\"를 반환할 수 있기 때문에, 이번에는 명시적으로 종료 지점(finish_point)을 설정할 필요가 없습니다**. 우리 그래프는 이미 종료할 방법을 가지고 있습니다!\n",
        "\n",
        "이제 우리가 구축한 그래프를 시각화해 봅시다. 다음 함수는 이 튜토리얼에 중요하지 않은 몇 가지 추가 종속성을 가지고 있습니다."
      ],
      "metadata": {
        "id": "bfY2Um35Yh1T"
      }
    },
    {
      "cell_type": "code",
      "source": [
        "from IPython.display import Image, display\n",
        "\n",
        "try:\n",
        "    display(Image(graph.get_graph().draw_mermaid_png()))\n",
        "except Exception:\n",
        "    # This requires some extra dependencies and is optional\n",
        "    pass"
      ],
      "metadata": {
        "colab": {
          "base_uri": "https://localhost:8080/",
          "height": 236
        },
        "id": "u4xwAGk4YfiR",
        "outputId": "e6beb1ba-0dfa-40e8-b5a0-648d1f26efe3"
      },
      "execution_count": null,
      "outputs": [
        {
          "output_type": "display_data",
          "data": {
            "image/jpeg": "[encoded data removed]",
            "text/plain": [
              "<IPython.core.display.Image object>"
            ]
          },
          "metadata": {}
        }
      ]
    },
    {
      "cell_type": "markdown",
      "source": [
        "이제 봇에게 LLM의 훈련 데이터에 포함되지 않은 질문도 할 수 있습니다."
      ],
      "metadata": {
        "id": "tnwAi9MBa6Bv"
      }
    },
    {
      "cell_type": "code",
      "source": [
        "# 테스트 프롬프트 : what's langgraph all about?\n",
        "\n",
        "from langchain_core.messages import BaseMessage\n",
        "\n",
        "while True:\n",
        "    user_input = input(\"User: \")\n",
        "    if user_input.lower() in [\"quit\", \"exit\", \"q\"]:\n",
        "        print(\"Goodbye!\")\n",
        "        break\n",
        "    for event in graph.stream({\"messages\": [(\"user\", user_input)]}):\n",
        "        for value in event.values():\n",
        "            if isinstance(value[\"messages\"][-1], BaseMessage):\n",
        "                print(\"Assistant:\", value[\"messages\"][-1].content)"
      ],
      "metadata": {
        "colab": {
          "base_uri": "https://localhost:8080/"
        },
        "id": "P05a_hVSYffN",
        "outputId": "75fa0bcc-cf6c-49e9-db11-3427f273b7da"
      },
      "execution_count": null,
      "outputs": [
        {
          "output_type": "stream",
          "name": "stdout",
          "text": [
            "User: what's langgraph all about?\n",
            "Assistant: \n",
            "Assistant: \"LangGraph is a package for creating LLM workflows with cycles and multi-agent designs. Learn what multi-agent means, why it is useful, and see examples of LangGraph applications and comparisons with other frameworks. LangGraph is a versatile tool for building complex, stateful applications with LLMs. By understanding its core concepts and working through simple examples, beginners can start to leverage its ... LangGraph Studio is a desktop app that lets you visualize, interact with, and debug complex agentic applications built with LangGraph, a low-level orchestration framework. Learn how to use it with LangSmith, a platform for creating and managing agents, and see examples of agent graphs and interactions. LangGraph is a framework for building agentic and multi-agent applications with LLMs, and LangGraph Cloud is a scalable and reliable infrastructure for deploying them. Learn how LangGraph helps you design, debug, and monitor complex agentic workflows with LLMs. LangGraph's strength lies in its ability to balance control flow with adaptability. Conditional nodes and the allowance of cycles empower agents to be both flexible and reliable. Similar to a ...\"\n",
            "Assistant: LangGraph is a package for creating LLM workflows with cycles and multi-agent designs. It is a versatile tool for building complex, stateful applications with LLMs (Low-Level Models). LangGraph Studio is a desktop app that allows users to visualize, interact with, and debug complex agentic applications built with LangGraph. LangGraph Cloud is a scalable and reliable infrastructure for deploying agentic and multi-agent applications. LangGraph helps in designing, debugging, and monitoring complex agentic workflows with LLMs. It empowers agents to be flexible and reliable through conditional nodes and the allowance of cycles.\n",
            "User: q\n",
            "Goodbye!\n"
          ]
        }
      ]
    },
    {
      "cell_type": "markdown",
      "source": [
        "**축하합니다!** 이제 LangGraph에서 **검색 엔진을 사용하여 필요한 경우 최신 정보를 가져올 수 있는 대화형 에이전트**를 만들었습니다. 이제 이 에이전트는 더 다양한 사용자 질문을 처리할 수 있습니다. 에이전트가 방금 수행한 모든 단계를 확인하려면 이 LangSmith 추적을 확인하세요.\n",
        "\n",
        "하지만 우리의 챗봇은 아직 **과거 상호작용을 기억하지 못해 일관된 멀티턴 대화를 나누는 데 한계**가 있습니다. 다음 부분에서는 이 문제를 해결하기 위해 다음 part에서 **메모리(memory) 기능을 추가**할 것입니다.\n",
        "\n",
        "이번 섹션에서 만든 그래프의 전체 코드는 아래에 재현되어 있으며, **BasicToolNode를 미리 빌드된 ToolNode로, route_tools 조건을 미리 빌드된 tools_condition으로 대체**했습니다.\n",
        "\n",
        "\n",
        "\n",
        "\n",
        "\n",
        "\n"
      ],
      "metadata": {
        "id": "2XDnJkanbgTy"
      }
    },
    {
      "cell_type": "code",
      "source": [
        "# from typing import Annotated\n",
        "\n",
        "# from langchain_anthropic import ChatAnthropic\n",
        "# from langchain_community.tools.tavily_search import TavilySearchResults\n",
        "# from langchain_core.messages import BaseMessage\n",
        "# from typing_extensions import TypedDict\n",
        "\n",
        "# from langgraph.graph import StateGraph\n",
        "# from langgraph.graph.message import add_messages\n",
        "# from langgraph.prebuilt import ToolNode, tools_condition\n",
        "\n",
        "\n",
        "# class State(TypedDict):\n",
        "#     messages: Annotated[list, add_messages]\n",
        "\n",
        "\n",
        "# graph_builder = StateGraph(State)\n",
        "\n",
        "\n",
        "# tool = TavilySearchResults(max_results=2)\n",
        "# tools = [tool]\n",
        "# llm = ChatAnthropic(model=\"claude-3-haiku-20240307\")\n",
        "# llm_with_tools = llm.bind_tools(tools)\n",
        "\n",
        "\n",
        "# def chatbot(state: State):\n",
        "#     return {\"messages\": [llm_with_tools.invoke(state[\"messages\"])]}\n",
        "\n",
        "\n",
        "# graph_builder.add_node(\"chatbot\", chatbot)\n",
        "\n",
        "# tool_node = ToolNode(tools=[tool])\n",
        "# graph_builder.add_node(\"tools\", tool_node)\n",
        "\n",
        "# graph_builder.add_conditional_edges(\n",
        "#     \"chatbot\",\n",
        "#     tools_condition,\n",
        "# )\n",
        "# # Any time a tool is called, we return to the chatbot to decide the next step\n",
        "# graph_builder.add_edge(\"tools\", \"chatbot\")\n",
        "# graph_builder.set_entry_point(\"chatbot\")\n",
        "# graph = graph_builder.compile()"
      ],
      "metadata": {
        "id": "TR8BXsbWYfce"
      },
      "execution_count": null,
      "outputs": []
    },
    {
      "cell_type": "code",
      "source": [],
      "metadata": {
        "id": "21EVYYs4k0Zw"
      },
      "execution_count": null,
      "outputs": []
    },
    {
      "cell_type": "markdown",
      "source": [
        "# Part 3: Adding Memory to the Chatbot"
      ],
      "metadata": {
        "id": "8ZDFoytJk0p4"
      }
    },
    {
      "cell_type": "markdown",
      "source": [
        "우리의 챗봇은 이제 도구를 사용하여 사용자 질문에 답할 수 있지만, **이전 상호작용의 맥락을 기억하지 못합니다.** 이는 일관된 **멀티턴 대화를 나누는 능력을 제한**합니다.\n",
        "\n",
        "LangGraph는 **지속적인 체크포인팅(persistent checkpointing)**을 통해 이 문제를 해결합니다. **그래프를 컴파일할 때 체크포인터(checkpointer)를 제공**하고 **그래프를 호출할 때 thread_id를 제공**하면, **LangGraph는 각 단계 후 상태를 자동으로 저장**합니다. **동일한 thread_id를 사용하여 그래프를 다시 호출하면, 그래프는 저장된 상태를 로드하여 챗봇이 중단한 지점에서 다시 시작**할 수 있게 됩니다."
      ],
      "metadata": {
        "id": "4O98-kZtlgcp"
      }
    },
    {
      "cell_type": "markdown",
      "source": [
        "**체크포인팅(checkpointing)**이 단순한 채팅 메모리보다 훨씬 강력하다는 것을 나중에 알게 될 것입니다. 이를 통해 오류 복구(error recovery), 인간 개입 워크플로우(human-in-the-loop workflows), 시간 여행 상호작용(time travel interactions) 등 복잡한 상태를 언제든지 저장하고 재개할 수 있습니다. 그러나 너무 앞서 나가기 전에, 먼저 멀티턴 대화를 가능하게 하기 위해 체크포인팅을 추가해 보겠습니다.\n",
        "\n",
        "시작하려면 **MemorySaver 체크포인터**를 생성하세요."
      ],
      "metadata": {
        "id": "V7UsVTZE5qaw"
      }
    },
    {
      "cell_type": "code",
      "source": [
        "from langgraph.checkpoint.memory import MemorySaver\n",
        "\n",
        "memory = MemorySaver()"
      ],
      "metadata": {
        "id": "l0fcCzLKk0W_"
      },
      "execution_count": null,
      "outputs": []
    },
    {
      "cell_type": "markdown",
      "source": [
        "**Notice** 우리가 **인메모리(in-memory) 체크포인터**를 사용하고 있는 점에 주목하세요. 이는 튜토리얼에서 편리하게 사용되며, **모든 데이터를 메모리에 저장**합니다. **실제 프로덕션 환경에서는 이를 SqliteSaver나 PostgresSaver로 변경하고, 자체 데이터베이스에 연결하여 사용할 가능성**이 큽니다.\n"
      ],
      "metadata": {
        "id": "3N45bfwz7TLq"
      }
    },
    {
      "cell_type": "markdown",
      "source": [
        "다음으로, 그래프를 정의하세요. 이제 직접 만든 BasicToolNode 대신 LangGraph의 미리 빌드된 ToolNode와 tools_condition을 사용할 것입니다. 이들은 병렬 API 실행과 같은 유용한 기능을 제공합니다. 그 외에는 아래 내용이 모두 Part 2에서 복사된 것입니다."
      ],
      "metadata": {
        "id": "lMyFDx7r9J1A"
      }
    },
    {
      "cell_type": "code",
      "source": [
        "from typing import Annotated\n",
        "\n",
        "from langchain_openai import ChatOpenAI\n",
        "from langchain_community.tools import DuckDuckGoSearchRun\n",
        "from langchain_core.messages import BaseMessage\n",
        "from typing_extensions import TypedDict\n",
        "\n",
        "from langgraph.graph import StateGraph, START, END\n",
        "from langgraph.graph.message import add_messages\n",
        "from langgraph.prebuilt import ToolNode, tools_condition\n",
        "\n",
        "\n",
        "class State(TypedDict):\n",
        "    messages: Annotated[list, add_messages]\n",
        "\n",
        "\n",
        "graph_builder = StateGraph(State)\n",
        "\n",
        "\n",
        "tool = DuckDuckGoSearchRun()\n",
        "tools = [tool]\n",
        "llm = ChatOpenAI(\n",
        "    model=\"gpt-3.5-turbo\",\n",
        "    temperature=0,\n",
        ")\n",
        "llm_with_tools = llm.bind_tools(tools)\n",
        "\n",
        "\n",
        "def chatbot(state: State):\n",
        "    return {\"messages\": [llm_with_tools.invoke(state[\"messages\"])]}\n",
        "\n",
        "\n",
        "graph_builder.add_node(\"chatbot\", chatbot)\n",
        "\n",
        "tool_node = ToolNode(tools=[tool])\n",
        "graph_builder.add_node(\"tools\", tool_node)\n",
        "\n",
        "graph_builder.add_conditional_edges(\n",
        "    \"chatbot\",\n",
        "    tools_condition,\n",
        ")\n",
        "# Any time a tool is called, we return to the chatbot to decide the next step\n",
        "graph_builder.add_edge(\"tools\", \"chatbot\")\n",
        "graph_builder.add_edge(START, \"chatbot\")"
      ],
      "metadata": {
        "id": "dyc7kwnW7gSz"
      },
      "execution_count": null,
      "outputs": []
    },
    {
      "cell_type": "markdown",
      "source": [
        "마지막으로, **제공된 체크포인터를 사용하여 그래프를 컴파일**하세요."
      ],
      "metadata": {
        "id": "zQ4e62Z6GsY1"
      }
    },
    {
      "cell_type": "code",
      "source": [
        "graph = graph_builder.compile(checkpointer=memory)"
      ],
      "metadata": {
        "id": "ffsRaLpck0Tl"
      },
      "execution_count": null,
      "outputs": []
    },
    {
      "cell_type": "markdown",
      "source": [
        "그래프의 연결성은 Part 2 이후로 변하지 않았다는 점에 주목하세요. 우리가 하는 일은 그래프가 각 노드를 처리할 때 상태(State)를 체크포인팅하는 것뿐입니다.\n",
        "\n",
        "\n",
        "\n",
        "\n",
        "\n",
        "\n"
      ],
      "metadata": {
        "id": "kpW7aSdXGy68"
      }
    },
    {
      "cell_type": "code",
      "source": [
        "from IPython.display import Image, display\n",
        "\n",
        "try:\n",
        "    display(Image(graph.get_graph().draw_mermaid_png()))\n",
        "except Exception:\n",
        "    # This requires some extra dependencies and is optional\n",
        "    pass"
      ],
      "metadata": {
        "id": "PBOoeOnJEFXH",
        "colab": {
          "base_uri": "https://localhost:8080/",
          "height": 236
        },
        "outputId": "71f8f5bc-9e37-4fc2-d24a-28b9a55caad5"
      },
      "execution_count": null,
      "outputs": [
        {
          "output_type": "display_data",
          "data": {
            "image/jpeg": "[encoded data removed]",
            "text/plain": [
              "<IPython.core.display.Image object>"
            ]
          },
          "metadata": {}
        }
      ]
    },
    {
      "cell_type": "markdown",
      "source": [
        "이제 봇과 상호작용할 수 있습니다! 먼저, 이 대화에서 사용할 키로 사용할 스레드를 선택하세요."
      ],
      "metadata": {
        "id": "G98bh_P0HZos"
      }
    },
    {
      "cell_type": "code",
      "source": [
        "config = {\"configurable\": {\"thread_id\": \"1\"}}"
      ],
      "metadata": {
        "id": "Jo_OkATSbBIp"
      },
      "execution_count": null,
      "outputs": []
    },
    {
      "cell_type": "markdown",
      "source": [
        "다음으로, 챗봇을 호출하세요."
      ],
      "metadata": {
        "id": "dfgcYKClH24L"
      }
    },
    {
      "cell_type": "code",
      "source": [
        "user_input = \"Hi there! My name is Will.\"\n",
        "\n",
        "# The config is the **second positional argument** to stream() or invoke()!\n",
        "events = graph.stream(\n",
        "    {\"messages\": [(\"user\", user_input)]}, config, stream_mode=\"values\"\n",
        ")\n",
        "for event in events:\n",
        "    event[\"messages\"][-1].pretty_print()"
      ],
      "metadata": {
        "id": "7Hq_YDPBe0jT",
        "colab": {
          "base_uri": "https://localhost:8080/"
        },
        "outputId": "8228bcd7-495e-4790-a044-75912d455c10"
      },
      "execution_count": null,
      "outputs": [
        {
          "output_type": "stream",
          "name": "stdout",
          "text": [
            "================================\u001b[1m Human Message \u001b[0m=================================\n",
            "\n",
            "Hi there! My name is Will.\n",
            "==================================\u001b[1m Ai Message \u001b[0m==================================\n",
            "\n",
            "Hello Will! How can I assist you today?\n"
          ]
        }
      ]
    },
    {
      "cell_type": "markdown",
      "source": [
        "**Note**: 그래프를 호출할 때 **설정(config)은 두 번째 위치 인자로 제공**되었습니다. 중요한 점은 설정이 그래프 입력({messages: []}) 내에 중첩되지 않는다는 것입니다.\n",
        "\n",
        "이제 후속 질문을 해봅시다: 챗봇이 당신의 이름을 기억하는지 확인해보세요.\n",
        "\n",
        "\n",
        "\n",
        "\n",
        "\n",
        "\n"
      ],
      "metadata": {
        "id": "D4bQihKUIhd4"
      }
    },
    {
      "cell_type": "code",
      "source": [
        "user_input = \"Remember my name?\"\n",
        "\n",
        "# The config is the **second positional argument** to stream() or invoke()!\n",
        "events = graph.stream(\n",
        "    {\"messages\": [(\"user\", user_input)]}, config, stream_mode=\"values\"\n",
        ")\n",
        "for event in events:\n",
        "    event[\"messages\"][-1].pretty_print()"
      ],
      "metadata": {
        "id": "kcvhW3zZH-60",
        "colab": {
          "base_uri": "https://localhost:8080/"
        },
        "outputId": "da97eacb-306b-41c5-836b-6fcf55f3a81b"
      },
      "execution_count": null,
      "outputs": [
        {
          "output_type": "stream",
          "name": "stdout",
          "text": [
            "================================\u001b[1m Human Message \u001b[0m=================================\n",
            "\n",
            "Remember my name?\n",
            "==================================\u001b[1m Ai Message \u001b[0m==================================\n",
            "\n",
            "Yes, I remember your name, Will. How can I help you today?\n"
          ]
        }
      ]
    },
    {
      "cell_type": "markdown",
      "source": [
        "우리가 외부 목록을 사용하여 메모리를 관리하지 않는다는 점에 주목하세요. **모든 것이 체크포인터에 의해 처리**됩니다! 이 LangSmith 추적에서 전체 실행 과정을 확인하여 어떻게 작동하는지 살펴볼 수 있습니다.\n",
        "\n",
        "믿기 어렵나요? **다른 설정(config)을 사용하여 시도**해 보세요.\n",
        "\n",
        "\n",
        "\n",
        "\n",
        "\n",
        "\n"
      ],
      "metadata": {
        "id": "bTlaSEO4KLiN"
      }
    },
    {
      "cell_type": "code",
      "source": [
        "# The only difference is we change the `thread_id` here to \"2\" instead of \"1\"\n",
        "events = graph.stream(\n",
        "    {\"messages\": [(\"user\", user_input)]},\n",
        "    {\"configurable\": {\"thread_id\": \"2\"}},\n",
        "    stream_mode=\"values\",\n",
        ")\n",
        "for event in events:\n",
        "    event[\"messages\"][-1].pretty_print()"
      ],
      "metadata": {
        "id": "DwB9h5JhH-30",
        "colab": {
          "base_uri": "https://localhost:8080/"
        },
        "outputId": "b04f4e4c-8990-42e9-b444-c9e2f876fedc"
      },
      "execution_count": null,
      "outputs": [
        {
          "output_type": "stream",
          "name": "stdout",
          "text": [
            "================================\u001b[1m Human Message \u001b[0m=================================\n",
            "\n",
            "Remember my name?\n",
            "==================================\u001b[1m Ai Message \u001b[0m==================================\n",
            "\n",
            "Of course, I remember your name! You are [User's Name]. How can I assist you today?\n"
          ]
        }
      ]
    },
    {
      "cell_type": "markdown",
      "source": [
        "**Notice** 우리가 한 유일한 변경 사항은 설정(config)에서 thread_id를 수정한 것입니다. 이 호출의 LangSmith 추적을 비교해 보세요.\n",
        "\n",
        "이제 두 개의 다른 스레드에 걸쳐 몇 가지 체크포인트를 만들었습니다. 하지만 체크포인트에는 무엇이 들어갈까요? **주어진 설정(config)에 대한 그래프의 상태를 언제든지 확인하려면 get_state(config)를 호출**하세요."
      ],
      "metadata": {
        "id": "9y7FL_vhTT0S"
      }
    },
    {
      "cell_type": "code",
      "source": [
        "snapshot = graph.get_state(config)\n",
        "snapshot"
      ],
      "metadata": {
        "id": "puBrnccNH-1U",
        "colab": {
          "base_uri": "https://localhost:8080/"
        },
        "outputId": "29256158-d374-4644-bee8-6392c918832a"
      },
      "execution_count": null,
      "outputs": [
        {
          "output_type": "execute_result",
          "data": {
            "text/plain": [
              "StateSnapshot(values={'messages': [HumanMessage(content='Hi there! My name is Will.', id='51bb4d61-6fd9-4eb6-9b4d-e81b03a59e12'), AIMessage(content='Hello Will! How can I assist you today?', additional_kwargs={'refusal': None}, response_metadata={'token_usage': {'completion_tokens': 11, 'prompt_tokens': 84, 'total_tokens': 95}, 'model_name': 'gpt-3.5-turbo-0125', 'system_fingerprint': None, 'finish_reason': 'stop', 'logprobs': None}, id='run-d48d0ad9-321e-45a2-9130-5a998ab000a8-0', usage_metadata={'input_tokens': 84, 'output_tokens': 11, 'total_tokens': 95}), HumanMessage(content='Remember my name?', id='7bac623e-d894-46eb-8870-d9e8e6e218e1'), AIMessage(content='Yes, I remember your name, Will. How can I help you today?', additional_kwargs={'refusal': None}, response_metadata={'token_usage': {'completion_tokens': 17, 'prompt_tokens': 106, 'total_tokens': 123}, 'model_name': 'gpt-3.5-turbo-0125', 'system_fingerprint': None, 'finish_reason': 'stop', 'logprobs': None}, id='run-e4f33b44-17e2-4a67-8b2c-2a8cd906944d-0', usage_metadata={'input_tokens': 106, 'output_tokens': 17, 'total_tokens': 123})]}, next=(), config={'configurable': {'thread_id': '1', 'checkpoint_ns': '', 'checkpoint_id': '1ef6124e-07ca-6fdb-8004-3c6c34447f8c'}}, metadata={'source': 'loop', 'writes': {'chatbot': {'messages': [AIMessage(content='Yes, I remember your name, Will. How can I help you today?', additional_kwargs={'refusal': None}, response_metadata={'token_usage': {'completion_tokens': 17, 'prompt_tokens': 106, 'total_tokens': 123}, 'model_name': 'gpt-3.5-turbo-0125', 'system_fingerprint': None, 'finish_reason': 'stop', 'logprobs': None}, id='run-e4f33b44-17e2-4a67-8b2c-2a8cd906944d-0', usage_metadata={'input_tokens': 106, 'output_tokens': 17, 'total_tokens': 123})]}}, 'step': 4}, created_at='2024-08-23T07:54:08.475927+00:00', parent_config={'configurable': {'thread_id': '1', 'checkpoint_ns': '', 'checkpoint_id': '1ef6124d-ffd1-6e9b-8003-d72eba8066df'}}, tasks=())"
            ]
          },
          "metadata": {},
          "execution_count": 29
        }
      ]
    },
    {
      "cell_type": "code",
      "source": [
        "snapshot.next  # (since the graph ended this turn, `next` is empty. If you fetch a state from within a graph invocation, next tells which node will execute next)"
      ],
      "metadata": {
        "id": "Eq_D53PqH-yv",
        "colab": {
          "base_uri": "https://localhost:8080/"
        },
        "outputId": "c4dec21d-0dea-4cbe-aacd-5aa9fbcc0cdd"
      },
      "execution_count": null,
      "outputs": [
        {
          "output_type": "execute_result",
          "data": {
            "text/plain": [
              "()"
            ]
          },
          "metadata": {},
          "execution_count": 30
        }
      ]
    },
    {
      "cell_type": "markdown",
      "source": [
        "위 스냅샷에는 **현재 상태 값, 해당 설정(config), 그리고 처리할 다음 노드**가 포함되어 있습니다. 우리의 경우, 그래프가 __end__ 상태에 도달했기 때문에 next는 비어 있습니다."
      ],
      "metadata": {
        "id": "b4TBlmWPU7hz"
      }
    },
    {
      "cell_type": "markdown",
      "source": [
        "**축하합니다!** 이제 챗봇이 LangGraph의 **체크포인팅 시스템 덕분에 세션 간에 대화 상태를 유지**할 수 있게 되었습니다. 이를 통해 **보다 자연스럽고 맥락적인 상호작용이 가능**해졌습니다. LangGraph의 체크포인팅은 **임의로 복잡한 그래프 상태도 처리할 수 있어, 단순한 채팅 메모리보다 훨씬 표현력 있고 강력**합니다.\n",
        "\n",
        "아래 코드 스니펫을 확인하여 이번 섹션에서 만든 그래프를 복습해 보세요.\n",
        "\n",
        "\n",
        "\n",
        "\n",
        "\n",
        "\n"
      ],
      "metadata": {
        "id": "iSUlheT7WKwB"
      }
    },
    {
      "cell_type": "code",
      "source": [
        "# from typing import Annotated\n",
        "\n",
        "# from langchain_anthropic import ChatAnthropic\n",
        "# from langchain_community.tools.tavily_search import TavilySearchResults\n",
        "# from langchain_core.messages import BaseMessage\n",
        "# from typing_extensions import TypedDict\n",
        "\n",
        "# from langgraph.checkpoint.memory import MemorySaver\n",
        "# from langgraph.graph import StateGraph\n",
        "# from langgraph.graph.message import add_messages\n",
        "# from langgraph.prebuilt import ToolNode\n",
        "\n",
        "\n",
        "# class State(TypedDict):\n",
        "#     messages: Annotated[list, add_messages]\n",
        "\n",
        "\n",
        "# graph_builder = StateGraph(State)\n",
        "\n",
        "\n",
        "# tool = TavilySearchResults(max_results=2)\n",
        "# tools = [tool]\n",
        "# llm = ChatAnthropic(model=\"claude-3-haiku-20240307\")\n",
        "# llm_with_tools = llm.bind_tools(tools)\n",
        "\n",
        "\n",
        "# def chatbot(state: State):\n",
        "#     return {\"messages\": [llm_with_tools.invoke(state[\"messages\"])]}\n",
        "\n",
        "\n",
        "# graph_builder.add_node(\"chatbot\", chatbot)\n",
        "\n",
        "# tool_node = ToolNode(tools=[tool])\n",
        "# graph_builder.add_node(\"tools\", tool_node)\n",
        "\n",
        "# graph_builder.add_conditional_edges(\n",
        "#     \"chatbot\",\n",
        "#     tools_condition,\n",
        "# )\n",
        "# graph_builder.add_edge(\"tools\", \"chatbot\")\n",
        "# graph_builder.set_entry_point(\"chatbot\")\n",
        "# graph = graph_builder.compile(checkpointer=memory)"
      ],
      "metadata": {
        "id": "eoHmG5Sce0go"
      },
      "execution_count": null,
      "outputs": []
    },
    {
      "cell_type": "code",
      "source": [],
      "metadata": {
        "id": "NzvaS7_l7AZf"
      },
      "execution_count": null,
      "outputs": []
    },
    {
      "cell_type": "code",
      "source": [],
      "metadata": {
        "id": "I6jyNTS5O8cp"
      },
      "execution_count": null,
      "outputs": []
    },
    {
      "cell_type": "code",
      "source": [],
      "metadata": {
        "id": "s56e8nYEO8Z8"
      },
      "execution_count": null,
      "outputs": []
    },
    {
      "cell_type": "code",
      "source": [],
      "metadata": {
        "id": "qjj9Flm9O8XZ"
      },
      "execution_count": null,
      "outputs": []
    },
    {
      "cell_type": "code",
      "source": [],
      "metadata": {
        "id": "ndiw818l7AWe"
      },
      "execution_count": null,
      "outputs": []
    }
  ]
}